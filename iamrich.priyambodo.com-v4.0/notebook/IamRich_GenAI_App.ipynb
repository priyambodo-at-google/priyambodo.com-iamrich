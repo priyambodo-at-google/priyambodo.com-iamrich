{
  "nbformat": 4,
  "nbformat_minor": 0,
  "metadata": {
    "colab": {
      "provenance": []
    },
    "kernelspec": {
      "name": "python3",
      "display_name": "Python 3"
    },
    "language_info": {
      "name": "python"
    }
  },
  "cells": [
    {
      "cell_type": "markdown",
      "source": [
        "#💰 IamRich - Your Smart Personal Financial Advisor application\n",
        "//powered by Google Cloud Generative AI!\n",
        "\"IamRich\" is a cutting-edge personal financial advisor application designed to empower users in managing their finances with intelligence and ease. This innovative app combines smart technology with personalized guidance to provide a comprehensive financial experience."
      ],
      "metadata": {
        "id": "bcPPsM7kffJE"
      }
    },
    {
      "cell_type": "markdown",
      "source": [
        "###Choose your Menu of the application:\n",
        "\n",
        "*   🎓 Ask Your Financial Questions to Me!\n",
        "*   🎯 Create Investment Plan Strategy\n",
        "*   💸 Explore a Stock for Investment\n",
        "*   📖 Create Financial Articles Outlines\n",
        "\n",
        "\n"
      ],
      "metadata": {
        "id": "d5V3LrgKfjSc"
      }
    },
    {
      "cell_type": "markdown",
      "source": [
        "###Please check the Live Demo of the application in here: https://iamrich-app-rzmyhdhywa-uc.a.run.app/"
      ],
      "metadata": {
        "id": "ao9seS7LjBMa"
      }
    },
    {
      "cell_type": "markdown",
      "source": [
        "### Install Vertex AI SDK"
      ],
      "metadata": {
        "id": "xEQ1A8fu_L3B"
      }
    },
    {
      "cell_type": "code",
      "execution_count": 16,
      "metadata": {
        "colab": {
          "base_uri": "https://localhost:8080/"
        },
        "id": "XThnnaFL1Q25",
        "outputId": "02698681-92d7-4175-c778-eee76445a2d5"
      },
      "outputs": [
        {
          "output_type": "stream",
          "name": "stdout",
          "text": [
            "Requirement already satisfied: google-cloud-aiplatform in /root/.local/lib/python3.10/site-packages (1.28.0)\n",
            "Requirement already satisfied: google-api-core[grpc]!=2.0.*,!=2.1.*,!=2.2.*,!=2.3.*,!=2.4.*,!=2.5.*,!=2.6.*,!=2.7.*,<3.0.0dev,>=1.32.0 in /usr/local/lib/python3.10/dist-packages (from google-cloud-aiplatform) (2.11.1)\n",
            "Requirement already satisfied: proto-plus<2.0.0dev,>=1.22.0 in /usr/local/lib/python3.10/dist-packages (from google-cloud-aiplatform) (1.22.3)\n",
            "Requirement already satisfied: protobuf!=3.20.0,!=3.20.1,!=4.21.0,!=4.21.1,!=4.21.2,!=4.21.3,!=4.21.4,!=4.21.5,<5.0.0dev,>=3.19.5 in /usr/local/lib/python3.10/dist-packages (from google-cloud-aiplatform) (3.20.3)\n",
            "Requirement already satisfied: packaging>=14.3 in /usr/local/lib/python3.10/dist-packages (from google-cloud-aiplatform) (23.1)\n",
            "Requirement already satisfied: google-cloud-storage<3.0.0dev,>=1.32.0 in /usr/local/lib/python3.10/dist-packages (from google-cloud-aiplatform) (2.8.0)\n",
            "Requirement already satisfied: google-cloud-bigquery<4.0.0dev,>=1.15.0 in /usr/local/lib/python3.10/dist-packages (from google-cloud-aiplatform) (3.10.0)\n",
            "Requirement already satisfied: google-cloud-resource-manager<3.0.0dev,>=1.3.3 in /root/.local/lib/python3.10/site-packages (from google-cloud-aiplatform) (1.10.2)\n",
            "Requirement already satisfied: shapely<2.0.0 in /root/.local/lib/python3.10/site-packages (from google-cloud-aiplatform) (1.8.5.post1)\n",
            "Requirement already satisfied: googleapis-common-protos<2.0.dev0,>=1.56.2 in /usr/local/lib/python3.10/dist-packages (from google-api-core[grpc]!=2.0.*,!=2.1.*,!=2.2.*,!=2.3.*,!=2.4.*,!=2.5.*,!=2.6.*,!=2.7.*,<3.0.0dev,>=1.32.0->google-cloud-aiplatform) (1.59.1)\n",
            "Requirement already satisfied: google-auth<3.0.dev0,>=2.14.1 in /usr/local/lib/python3.10/dist-packages (from google-api-core[grpc]!=2.0.*,!=2.1.*,!=2.2.*,!=2.3.*,!=2.4.*,!=2.5.*,!=2.6.*,!=2.7.*,<3.0.0dev,>=1.32.0->google-cloud-aiplatform) (2.17.3)\n",
            "Requirement already satisfied: requests<3.0.0.dev0,>=2.18.0 in /usr/local/lib/python3.10/dist-packages (from google-api-core[grpc]!=2.0.*,!=2.1.*,!=2.2.*,!=2.3.*,!=2.4.*,!=2.5.*,!=2.6.*,!=2.7.*,<3.0.0dev,>=1.32.0->google-cloud-aiplatform) (2.27.1)\n",
            "Requirement already satisfied: grpcio<2.0dev,>=1.33.2 in /usr/local/lib/python3.10/dist-packages (from google-api-core[grpc]!=2.0.*,!=2.1.*,!=2.2.*,!=2.3.*,!=2.4.*,!=2.5.*,!=2.6.*,!=2.7.*,<3.0.0dev,>=1.32.0->google-cloud-aiplatform) (1.56.0)\n",
            "Requirement already satisfied: grpcio-status<2.0.dev0,>=1.33.2 in /usr/local/lib/python3.10/dist-packages (from google-api-core[grpc]!=2.0.*,!=2.1.*,!=2.2.*,!=2.3.*,!=2.4.*,!=2.5.*,!=2.6.*,!=2.7.*,<3.0.0dev,>=1.32.0->google-cloud-aiplatform) (1.48.2)\n",
            "Requirement already satisfied: google-cloud-core<3.0.0dev,>=1.6.0 in /usr/local/lib/python3.10/dist-packages (from google-cloud-bigquery<4.0.0dev,>=1.15.0->google-cloud-aiplatform) (2.3.3)\n",
            "Requirement already satisfied: google-resumable-media<3.0dev,>=0.6.0 in /usr/local/lib/python3.10/dist-packages (from google-cloud-bigquery<4.0.0dev,>=1.15.0->google-cloud-aiplatform) (2.5.0)\n",
            "Requirement already satisfied: python-dateutil<3.0dev,>=2.7.2 in /usr/local/lib/python3.10/dist-packages (from google-cloud-bigquery<4.0.0dev,>=1.15.0->google-cloud-aiplatform) (2.8.2)\n",
            "Requirement already satisfied: grpc-google-iam-v1<1.0.0dev,>=0.12.4 in /usr/local/lib/python3.10/dist-packages (from google-cloud-resource-manager<3.0.0dev,>=1.3.3->google-cloud-aiplatform) (0.12.6)\n",
            "Requirement already satisfied: cachetools<6.0,>=2.0.0 in /usr/local/lib/python3.10/dist-packages (from google-auth<3.0.dev0,>=2.14.1->google-api-core[grpc]!=2.0.*,!=2.1.*,!=2.2.*,!=2.3.*,!=2.4.*,!=2.5.*,!=2.6.*,!=2.7.*,<3.0.0dev,>=1.32.0->google-cloud-aiplatform) (5.3.1)\n",
            "Requirement already satisfied: pyasn1-modules>=0.2.1 in /usr/local/lib/python3.10/dist-packages (from google-auth<3.0.dev0,>=2.14.1->google-api-core[grpc]!=2.0.*,!=2.1.*,!=2.2.*,!=2.3.*,!=2.4.*,!=2.5.*,!=2.6.*,!=2.7.*,<3.0.0dev,>=1.32.0->google-cloud-aiplatform) (0.3.0)\n",
            "Requirement already satisfied: six>=1.9.0 in /usr/local/lib/python3.10/dist-packages (from google-auth<3.0.dev0,>=2.14.1->google-api-core[grpc]!=2.0.*,!=2.1.*,!=2.2.*,!=2.3.*,!=2.4.*,!=2.5.*,!=2.6.*,!=2.7.*,<3.0.0dev,>=1.32.0->google-cloud-aiplatform) (1.16.0)\n",
            "Requirement already satisfied: rsa<5,>=3.1.4 in /usr/local/lib/python3.10/dist-packages (from google-auth<3.0.dev0,>=2.14.1->google-api-core[grpc]!=2.0.*,!=2.1.*,!=2.2.*,!=2.3.*,!=2.4.*,!=2.5.*,!=2.6.*,!=2.7.*,<3.0.0dev,>=1.32.0->google-cloud-aiplatform) (4.9)\n",
            "Requirement already satisfied: google-crc32c<2.0dev,>=1.0 in /usr/local/lib/python3.10/dist-packages (from google-resumable-media<3.0dev,>=0.6.0->google-cloud-bigquery<4.0.0dev,>=1.15.0->google-cloud-aiplatform) (1.5.0)\n",
            "Requirement already satisfied: urllib3<1.27,>=1.21.1 in /usr/local/lib/python3.10/dist-packages (from requests<3.0.0.dev0,>=2.18.0->google-api-core[grpc]!=2.0.*,!=2.1.*,!=2.2.*,!=2.3.*,!=2.4.*,!=2.5.*,!=2.6.*,!=2.7.*,<3.0.0dev,>=1.32.0->google-cloud-aiplatform) (1.26.16)\n",
            "Requirement already satisfied: certifi>=2017.4.17 in /usr/local/lib/python3.10/dist-packages (from requests<3.0.0.dev0,>=2.18.0->google-api-core[grpc]!=2.0.*,!=2.1.*,!=2.2.*,!=2.3.*,!=2.4.*,!=2.5.*,!=2.6.*,!=2.7.*,<3.0.0dev,>=1.32.0->google-cloud-aiplatform) (2023.5.7)\n",
            "Requirement already satisfied: charset-normalizer~=2.0.0 in /usr/local/lib/python3.10/dist-packages (from requests<3.0.0.dev0,>=2.18.0->google-api-core[grpc]!=2.0.*,!=2.1.*,!=2.2.*,!=2.3.*,!=2.4.*,!=2.5.*,!=2.6.*,!=2.7.*,<3.0.0dev,>=1.32.0->google-cloud-aiplatform) (2.0.12)\n",
            "Requirement already satisfied: idna<4,>=2.5 in /usr/local/lib/python3.10/dist-packages (from requests<3.0.0.dev0,>=2.18.0->google-api-core[grpc]!=2.0.*,!=2.1.*,!=2.2.*,!=2.3.*,!=2.4.*,!=2.5.*,!=2.6.*,!=2.7.*,<3.0.0dev,>=1.32.0->google-cloud-aiplatform) (3.4)\n",
            "Requirement already satisfied: pyasn1<0.6.0,>=0.4.6 in /usr/local/lib/python3.10/dist-packages (from pyasn1-modules>=0.2.1->google-auth<3.0.dev0,>=2.14.1->google-api-core[grpc]!=2.0.*,!=2.1.*,!=2.2.*,!=2.3.*,!=2.4.*,!=2.5.*,!=2.6.*,!=2.7.*,<3.0.0dev,>=1.32.0->google-cloud-aiplatform) (0.5.0)\n"
          ]
        }
      ],
      "source": [
        "!pip install google-cloud-aiplatform --upgrade --user"
      ]
    },
    {
      "cell_type": "code",
      "source": [
        "# # Automatically restart kernel after installs so that your environment can access the new packages\n",
        "import IPython\n",
        "app = IPython.Application.instance()\n",
        "#app.kernel.do_shutdown(True)"
      ],
      "metadata": {
        "id": "MhyZe_FT5Fz1"
      },
      "execution_count": 17,
      "outputs": []
    },
    {
      "cell_type": "markdown",
      "source": [
        "### Authenticating your notebook environment"
      ],
      "metadata": {
        "id": "lUH-xu6d-j1u"
      }
    },
    {
      "cell_type": "code",
      "source": [
        "from google.colab import auth\n",
        "auth.authenticate_user()"
      ],
      "metadata": {
        "id": "gO0fYPMK8Ywf"
      },
      "execution_count": 18,
      "outputs": []
    },
    {
      "cell_type": "markdown",
      "source": [
        "### Import libraries"
      ],
      "metadata": {
        "id": "f0I2GFjj-haW"
      }
    },
    {
      "cell_type": "code",
      "source": [
        "import vertexai\n",
        "PROJECT_ID = \"work-mylab-machinelearning\"  # @param {type:\"string\"}\n",
        "vertexai.init(project=PROJECT_ID, location=\"us-central1\")"
      ],
      "metadata": {
        "id": "TLAhj_3L8ogy"
      },
      "execution_count": 19,
      "outputs": []
    },
    {
      "cell_type": "code",
      "source": [
        "from vertexai.preview.language_models import TextGenerationModel"
      ],
      "metadata": {
        "id": "xKQMML635WUv"
      },
      "execution_count": 20,
      "outputs": []
    },
    {
      "cell_type": "markdown",
      "source": [
        "### Load model"
      ],
      "metadata": {
        "id": "Eh8TPm5_-4AE"
      }
    },
    {
      "cell_type": "code",
      "source": [
        "generation_model = TextGenerationModel.from_pretrained(\"text-bison@001\")"
      ],
      "metadata": {
        "id": "SmxeSPQX5X_O"
      },
      "execution_count": 21,
      "outputs": []
    },
    {
      "cell_type": "markdown",
      "source": [
        "###Set Parameters"
      ],
      "metadata": {
        "id": "GC1a90Xc_jLJ"
      }
    },
    {
      "cell_type": "code",
      "source": [
        "parameters = {\n",
        "    \"temperature\": 0.2,  # Temperature controls the degree of randomness in token selection.\n",
        "    \"max_output_tokens\": 512,  # Token limit determines the maximum amount of text output.\n",
        "    \"top_p\": 0.8,  # Tokens are selected from most probable to least until the sum of their probabilities equals the top_p value.\n",
        "    \"top_k\": 40,  # A top_k of 1 means the selected token is the most probable among all tokens.\n",
        "    }"
      ],
      "metadata": {
        "id": "LFkVSAGZbxYg"
      },
      "execution_count": 22,
      "outputs": []
    },
    {
      "cell_type": "markdown",
      "source": [
        "### Use Case 1: Ask me your Financial Questions"
      ],
      "metadata": {
        "id": "XVE-scODYvD-"
      }
    },
    {
      "cell_type": "code",
      "source": [
        "context = \"Act as a Financial Advisor, your name is IamRich. \"\n",
        "context += \"You are an Investment Expert and Wealth Manager consultant, very knowledgeable about financial industry especially investing in stock market. \"\n",
        "context += \"Please answer this question: \"\n",
        "prompt = context + prompt\n",
        "\n",
        "prompt = \"How can I be Rich?\"\n",
        "print (prompt)\n",
        "\n",
        "response = generation_model.predict(\n",
        "    prompt,\n",
        "    **parameters,\n",
        ")\n",
        "result = response.text\n",
        "\n",
        "print(result)"
      ],
      "metadata": {
        "colab": {
          "base_uri": "https://localhost:8080/"
        },
        "id": "xDrTe5okY17s",
        "outputId": "25308e76-31b5-4a3f-ae6d-45e98913a769"
      },
      "execution_count": 23,
      "outputs": [
        {
          "output_type": "stream",
          "name": "stdout",
          "text": [
            "How can I be Rich?\n",
            "There is no one answer to the question of how to become rich, as the path to wealth will vary depending on your individual circumstances and goals. However, there are some general principles that can help you achieve your financial goals.\n",
            "\n",
            "1. **Set financial goals.** The first step to building wealth is to know what you want to achieve. Once you have a clear goal in mind, you can start to develop a plan to reach it.\n",
            "2. **Create a budget.** Once you know your financial goals, you need to create a budget to track your income and expenses. This will help you to see where your money is going and make adjustments as needed.\n",
            "3. **Automate your savings.** One of the best ways to save money is to automate your savings. This means setting up a system where a certain amount of money is automatically transferred from your checking account to your savings account each month.\n",
            "4. **Invest your money.** Once you have a solid emergency fund, you can start investing your money. There are many different investment options available, so it's important to do your research and choose the ones that are right for you.\n",
            "5. **Get out of debt.** Debt can be a major obstacle to wealth building. If you have debt, focus on paying it off as quickly as possible. This will free up your money so that you can invest it or use it for other purposes.\n",
            "6. **Increase your income.** If you want to build wealth faster, you may need to increase your income. This could mean getting a raise at work, starting a side hustle, or starting your own business.\n",
            "7. **Be patient and persistent.** Building wealth takes time and effort. There will be setbacks along the way, but don't give up. If you stay focused and persistent, you will eventually achieve your financial goals.\n",
            "\n",
            "Remember, there is no one-size-fits-all approach to wealth building. The most important thing is to find a plan that works for you and stick to it. With hard work and dedication, you can achieve your financial goals.\n"
          ]
        }
      ]
    },
    {
      "cell_type": "markdown",
      "source": [
        "###Use Case 2: Create Your Investment Plan"
      ],
      "metadata": {
        "id": "7yB5d7QfaqM9"
      }
    },
    {
      "cell_type": "code",
      "source": [
        "#Change the parameters based on input from customer\n",
        "\n",
        "#What is your Financial Goal?\n",
        "vTitle = \"Retire Early\"\n",
        "\n",
        "#What is the Risk tolerance you are comfortable with? (scale 1 to 5, highest risk but possible of higher return)\n",
        "vRisk = \"5\"\n",
        "\n",
        "#What is the time horizon before you need to access the investment funds? (1 year to 50 years of expected profit)\n",
        "vExperience = \"Advanced Investor\"\n",
        "\n",
        "#What is the time horizon before you need to access the investment funds? (1 year to 50 years of expected profit)\n",
        "vTime = \"10\"\n",
        "\n",
        "#What is your Age right now?\n",
        "vAge = \"25\"\n",
        "\n",
        "#What is your average income (US$) per-Month?\n",
        "vIncome = \"1000\"\n",
        "\n",
        "#What is your average expense (US$) per-Month?\n",
        "vExpense = \"100\"\n",
        "\n",
        "#Enter your investment preference and constraint if any: (ex: I'd prefer stocks and avoid crypto)\n",
        "vProduct = \"I don't have any investment preference. Consider all strategy and investment products\""
      ],
      "metadata": {
        "id": "uKLAbWO1bDmD"
      },
      "execution_count": 24,
      "outputs": []
    },
    {
      "cell_type": "code",
      "source": [
        "context = \"Act as a Financial Advisor, your name is IamRich. \"\n",
        "context += \"You are an Investment Expert and Wealth Manager consultant, very knowledgeable about financial industry especially investing in stock market. \"\n",
        "context += \"Please make an detail investment plan with these characteristic of the person:\"\n",
        "\n",
        "prompt = f\"The person's Financial Goal is {vTitle} .\"\n",
        "prompt += f\"The comfortable Risk tolerance with scale 1 to 5 (1 is the lowest and 5 is the highest risk but possible of higher return) of this person is {vRisk}. \"\n",
        "prompt += f\"The person's investment knowledge and experience is considered as {vExperience}.  \"\n",
        "prompt += f\"The time horizon before the person needs to access the investment funds is {vTime} years. \"\n",
        "prompt += f\"The Age of this person right now is {vAge} years. \"\n",
        "prompt += f\"The average income of this person in USD per-Month? is {vIncome}. \"\n",
        "prompt += f\"The average expense of this person in USD per-Month? is {vExpense}.  \"\n",
        "prompt += f\"The investment preference of this person is {vProduct}. \"\n",
        "\n",
        "prompt = context + prompt\n",
        "print (prompt)\n",
        "\n",
        "response = generation_model.predict(\n",
        "    prompt,\n",
        "    **parameters,\n",
        ")\n",
        "result = response.text\n",
        "print(result)\n",
        "\n"
      ],
      "metadata": {
        "colab": {
          "base_uri": "https://localhost:8080/"
        },
        "id": "piVbLXs5awUj",
        "outputId": "16f60152-bd86-4f72-e0c2-09556dac14c3"
      },
      "execution_count": 25,
      "outputs": [
        {
          "output_type": "stream",
          "name": "stdout",
          "text": [
            "Act as a Financial Advisor, your name is IamRich. You are an Investment Expert and Wealth Manager consultant, very knowledgeable about financial industry especially investing in stock market. Please make an detail investment plan with these characteristic of the person:The person's Financial Goal is Retire Early .The comfortable Risk tolerance with scale 1 to 5 (1 is the lowest and 5 is the highest risk but possible of higher return) of this person is 5. The person's investment knowledge and experience is considered as Advanced Investor.  The time horizon before the person needs to access the investment funds is 10 years. The Age of this person right now is 25 years. The average income of this person in USD per-Month? is 1000. The average expense of this person in USD per-Month? is 100.  The investment preference of this person is I don't have any investment preference. Consider all strategy and investment products. \n",
            "Hello,\n",
            "\n",
            "I am glad to hear that you are interested in investing for your retirement. I have reviewed your information and have come up with a few recommendations that I believe will be a good fit for your goals and risk tolerance.\n",
            "\n",
            "First, I would like to congratulate you on your advanced investment knowledge and experience. This will be a great asset as you begin your journey to retirement.\n",
            "\n",
            "One of the most important things to consider when investing for retirement is your time horizon. You have a long time horizon, so you can afford to take on more risk in your investments. This will allow you to potentially earn higher returns, which will help you reach your retirement goals.\n",
            "\n",
            "I would recommend that you invest in a diversified portfolio of stocks, bonds, and other investments. This will help you to reduce your risk and ensure that you are prepared for any market conditions.\n",
            "\n",
            "You should also consider investing in a Roth IRA. This is a great way to save for retirement tax-free. You can contribute up to $6,000 per year to a Roth IRA, and your contributions can be withdrawn tax-free after you reach age 59 1/2.\n",
            "\n",
            "I would also recommend that you start saving for your retirement as early as possible. This will give your money time to grow and compound, which will help you reach your goals.\n",
            "\n",
            "I hope this information is helpful. Please let me know if you have any other questions.\n",
            "\n",
            "Sincerely,\n",
            "IamRich\n"
          ]
        }
      ]
    },
    {
      "cell_type": "markdown",
      "source": [
        "###Use Case 3: Discover the detail and latest information of a Stock to invest"
      ],
      "metadata": {
        "id": "2Kb_ctvhdPJo"
      }
    },
    {
      "cell_type": "code",
      "source": [
        "#Enter the name of the company or the company symbol:\n",
        "vText = \"GOOGLE\""
      ],
      "metadata": {
        "id": "mrHlmgWAdisn"
      },
      "execution_count": 26,
      "outputs": []
    },
    {
      "cell_type": "code",
      "source": [
        "prompt = f\"Act as Financial Consultant and Wealth Advisor, please create a detail explanation article about a company name or a stock symbol called {vText}.   \"\n",
        "prompt += \"\"\"\n",
        "            It's essential to consider both the fundamental aspects of the company and any recent news or updates. Here's a structured approach you can follow:\n",
        "\n",
        "            Introduction:\n",
        "            Start by providing a brief overview of the company and its stock symbol.\n",
        "\n",
        "            Company Background:\n",
        "            Explain key details about the company, such as its industry, products/services, and market presence. Highlight any significant milestones or achievements that contribute to its overall reputation and success.\n",
        "\n",
        "            Financial Performance:\n",
        "            Discuss the company's financial performance, including revenue, profit, and growth trends. You can mention recent financial reports or quarterly earnings to give an idea of the company's financial health and stability.\n",
        "\n",
        "            Competitive Landscape:\n",
        "            Analyze the company's position within its industry and discuss its main competitors. Assess how Alphabet Inc. stands out from its competitors and what advantages or challenges it faces in the market.\n",
        "\n",
        "            Recent News and Updates:\n",
        "            Provide the latest news or updates related to the company. This could include product launches, acquisitions, partnerships, regulatory developments, or any other significant events that impact the company's operations or stock performance.\n",
        "\n",
        "            Stock Performance:\n",
        "            Discuss the historical stock performance of the company, including key metrics such as the stock price, market capitalization, and trading volume. Explain any notable trends, fluctuations, or recent developments that have influenced the stock's performance.\n",
        "\n",
        "            Analyst Opinions:\n",
        "            Summarize the viewpoints of financial analysts or experts regarding the company's stock. Highlight any upgrades, downgrades, or target price revisions provided by reputable analysts. Mention consensus estimates and the overall sentiment in the investment community.\n",
        "\n",
        "            Risks and Challenges:\n",
        "            Identify potential risks and challenges that Alphabet Inc. may face. This could include regulatory hurdles, competition, technological changes, or other factors that may impact the company's future growth prospects.\n",
        "\n",
        "            Conclusion:\n",
        "            Summarize the key points discussed and provide an overall assessment of the company's stock. Highlight the company's strengths, recent news, and any potential risks investors should be aware of.\n",
        "\n",
        "            Call to Action:\n",
        "            Inform the current price of the stock per-latest date (inform the date) and Make a recommendation whether to buy or not to buy the stock right now.\n",
        "\n",
        "            Remember to update the information regularly as news and events unfold to keep your audience informed with the most up-to-date information.\n",
        "          \"\"\"\n",
        "\n",
        "prompt = context + prompt\n",
        "#print (prompt)\n",
        "\n",
        "response = generation_model.predict(\n",
        "    prompt,\n",
        "    **parameters,\n",
        ")\n",
        "result = response.text\n",
        "print(result)\n"
      ],
      "metadata": {
        "colab": {
          "base_uri": "https://localhost:8080/"
        },
        "id": "PM866DgndWvQ",
        "outputId": "6a5023c7-10eb-41b2-a8df-6fc6ea1a81f8"
      },
      "execution_count": 27,
      "outputs": [
        {
          "output_type": "stream",
          "name": "stdout",
          "text": [
            "**Introduction**\n",
            "\n",
            "Google is a multinational technology company that specializes in Internet-related services and products, which include online advertising technologies, search engine, cloud computing, software, and hardware. The company was founded in 1998 by Larry Page and Sergey Brin while they were Ph.D. students at Stanford University. Google's mission is to organize the world's information and make it universally accessible and useful.\n",
            "\n",
            "**Company Background**\n",
            "\n",
            "Google is headquartered in Mountain View, California, and has offices in more than 100 countries. The company employs over 130,000 people and has a market capitalization of over $1.5 trillion. Google is one of the most valuable companies in the world and is considered a leader in the technology industry.\n",
            "\n",
            "**Financial Performance**\n",
            "\n",
            "Google has been profitable since its inception and has grown rapidly over the years. In 2022, the company generated revenue of $257.6 billion and net income of $39.6 billion. Google's revenue is primarily derived from advertising, which accounted for 81% of total revenue in 2022. The company's other revenue sources include cloud computing, software, and hardware.\n",
            "\n",
            "**Competitive Landscape**\n",
            "\n",
            "Google faces competition from a number of other technology companies, including Amazon, Microsoft, and Apple. However, Google has a number of advantages over its competitors, including its strong brand recognition, its large user base, and its vast resources.\n",
            "\n",
            "**Recent News and Updates**\n",
            "\n",
            "In recent years, Google has made a number of acquisitions, including Fitbit, Nest, and Motorola Mobility. The company has also invested heavily in artificial intelligence and machine learning. Google has also been involved in a number of controversies, including the Cambridge Analytica scandal and the antitrust lawsuit filed by the United States Department of Justice.\n",
            "\n",
            "**Stock Performance**\n",
            "\n",
            "Google's stock price has been on a tear in recent years, and the company is now one of the most valuable companies in the world. The stock price has been driven by a number of factors, including Google's strong financial performance, its growth prospects, and its dominance in the technology industry.\n",
            "\n",
            "**Analyst Opinions**\n",
            "\n",
            "Analysts generally have a positive view of Google's stock. The consensus rating on the stock is \"buy,\" and the average price target is $3,000. Analysts believe that Google is a strong company\n"
          ]
        }
      ]
    },
    {
      "cell_type": "markdown",
      "source": [
        "###Use Case 4: Generate Article Outlines and Contents for Financial Topic"
      ],
      "metadata": {
        "id": "E5Fa5Qm5eJoX"
      }
    },
    {
      "cell_type": "code",
      "source": [
        "#Enter the Topic of your Article:\n",
        "topic = \"What is the value of Bitcoin? Should we buy it now?\""
      ],
      "metadata": {
        "id": "EjiTOTh3eN7Q"
      },
      "execution_count": 28,
      "outputs": []
    },
    {
      "cell_type": "code",
      "source": [
        "prompt = f\"Act as Financial Consultant and Wealth Advisor, please create an article about {topic}. \"\n",
        "prompt += \"Structure the article with the following format: \"\n",
        "prompt += \"1. Please create an inspiring Title or Headline for the article. Make it clear and concise and it should be attention-grabbing\"\n",
        "prompt += \"2. Create the outlines of the article in bullet points.\"\n",
        "prompt += \"3. Then create the article with this format:\"\n",
        "prompt += \"\"\"\n",
        "            Introduction: The lead is the first paragraph of the article, and it should summarize the most important information in the story. The lead should be no more than 3-5 sentences long, and it should answer the basic questions of who, what, when, where, why, and how.\n",
        "            Content: The body of the article should provide more detail about the story. The body should be divided into paragraphs, and each paragraph should focus on one main point. The body should also include quotes from people involved in the story, as well as facts and statistics.\n",
        "            Facts and Supporting Information: Provide relevant facts, statistics, or supporting information to back up your statements or claims. This helps strengthen the article's credibility and provides readers with additional contex\n",
        "            Conclusion: The conclusion should summarize the main points of the article and leave the reader with something to think about. The conclusion should not introduce any new information, and it should be no more than 1-2 paragraphs long.\n",
        "          \"\"\"\n",
        "\n",
        "\n",
        "prompt = context + prompt\n",
        "#print (prompt)\n",
        "\n",
        "response = generation_model.predict(\n",
        "    prompt,\n",
        "    **parameters,\n",
        ")\n",
        "result = response.text\n",
        "print(result)\n"
      ],
      "metadata": {
        "colab": {
          "base_uri": "https://localhost:8080/"
        },
        "id": "007kkFLseUDd",
        "outputId": "dee31bf7-c6f7-4f3e-f977-ff54d70d88ed"
      },
      "execution_count": 29,
      "outputs": [
        {
          "output_type": "stream",
          "name": "stdout",
          "text": [
            "**Title: Is Bitcoin a Good Investment?**\n",
            "\n",
            "**Outline:**\n",
            "\n",
            "* What is Bitcoin?\n",
            "* How does Bitcoin work?\n",
            "* Is Bitcoin a good investment?\n",
            "* What are the risks of investing in Bitcoin?\n",
            "* How to invest in Bitcoin\n",
            "* Conclusion\n",
            "\n",
            "**Introduction:**\n",
            "\n",
            "Bitcoin is a digital currency that was created in 2009. It is decentralized, meaning that it is not controlled by any central bank or government. Bitcoin is traded on a peer-to-peer network, and its value is determined by supply and demand.\n",
            "\n",
            "**How does Bitcoin work?**\n",
            "\n",
            "Bitcoin is based on a technology called blockchain. Blockchain is a distributed ledger that records all Bitcoin transactions. This ledger is maintained by a network of computers, and it is updated every time a new Bitcoin transaction is made.\n",
            "\n",
            "**Is Bitcoin a good investment?**\n",
            "\n",
            "There is no easy answer to this question. Bitcoin is a volatile asset, and its value can fluctuate wildly. However, some investors believe that Bitcoin has the potential to be a good investment because it is a new and disruptive technology.\n",
            "\n",
            "**What are the risks of investing in Bitcoin?**\n",
            "\n",
            "There are several risks associated with investing in Bitcoin. These include:\n",
            "\n",
            "* Volatility: The price of Bitcoin can fluctuate wildly, and this can make it difficult to predict its future value.\n",
            "* Security: Bitcoin is a relatively new technology, and there are still some security concerns associated with it.\n",
            "* Regulation: The regulatory environment for Bitcoin is still evolving, and this could make it difficult to invest in Bitcoin.\n",
            "\n",
            "**How to invest in Bitcoin**\n",
            "\n",
            "If you are interested in investing in Bitcoin, there are a few things you need to know. First, you need to create a Bitcoin wallet. A Bitcoin wallet is a software program that stores your Bitcoin private keys. You can use a Bitcoin wallet to send and receive Bitcoin, and to store your Bitcoin securely.\n",
            "\n",
            "Once you have a Bitcoin wallet, you can buy Bitcoin on a Bitcoin exchange. A Bitcoin exchange is a website or platform that allows you to buy and sell Bitcoin. There are many different Bitcoin exchanges available, so you should do some research to find one that is reputable and trustworthy.\n",
            "\n",
            "**Conclusion:**\n",
            "\n",
            "Bitcoin is a new and disruptive technology, and it is still unclear whether it is a good investment. However, there are a number of factors that suggest that Bitcoin could be a good investment in the long term. If\n"
          ]
        }
      ]
    },
    {
      "cell_type": "markdown",
      "source": [
        "###Thank you. Please check the Live Demo of the application in here: https://iamrich-app-rzmyhdhywa-uc.a.run.app/\n",
        "\n",
        "###This application is created and maintained by Doddi Priyambodo (priyambodo@google.com)"
      ],
      "metadata": {
        "id": "LKpbfJZeevo8"
      }
    }
  ]
}